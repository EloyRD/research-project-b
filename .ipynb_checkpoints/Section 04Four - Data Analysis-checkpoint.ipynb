{
 "cells": [
  {
   "cell_type": "markdown",
   "metadata": {},
   "source": [
    "#  RESEARCH PROJECT B\n",
    "Student: Mr Eloy Ruiz Donayre  \n",
    "Supervisor: Prof Dr Achim Kehrein  \n",
    "\n",
    "Reference Paper:  \n",
    "> To sleep or not to sleep: the ecology of sleep in artificial organisms  \n",
    "> Alberto Acerbi, Patrick McNamara and Charles L Nunn  \n",
    "> https://doi.org/10.1186/1472-6785-8-10 "
   ]
  },
  {
   "cell_type": "markdown",
   "metadata": {},
   "source": [
    "## Testing a full experiment (15 generations)"
   ]
  },
  {
   "cell_type": "markdown",
   "metadata": {},
   "source": [
    "### Setting up modules"
   ]
  },
  {
   "cell_type": "code",
   "execution_count": 1,
   "metadata": {},
   "outputs": [],
   "source": [
    "%matplotlib inline\n",
    "# from jupyterthemes import jtplot\n",
    "# jtplot.style()"
   ]
  },
  {
   "cell_type": "code",
   "execution_count": 2,
   "metadata": {},
   "outputs": [],
   "source": [
    "import math\n",
    "import random\n",
    "import pandas as pd\n",
    "import numpy as np\n",
    "import matplotlib\n",
    "import matplotlib.pyplot as plt\n",
    "\n",
    "from simulation_modules.agents import Animal, FoodPatch, SleepPatch\n",
    "from simulation_modules.model import SleepAnimals\n",
    "from simulation_modules.experiment import *"
   ]
  },
  {
   "cell_type": "code",
   "execution_count": 3,
   "metadata": {},
   "outputs": [],
   "source": [
    "current_exp_id = 0\n",
    "generation_number = 0\n",
    "abm_models = []\n",
    "generations = []\n",
    "results = pd.DataFrame()\n",
    "p = 0.05"
   ]
  },
  {
   "cell_type": "markdown",
   "metadata": {},
   "source": [
    "### Creating genomes of initial population\n",
    "The array `genomes` represent the genomes of the first 100 individuals. Each gene in the genome has three possible values:  \n",
    "`'flex' , 'eat' , 'sleep'`"
   ]
  },
  {
   "cell_type": "code",
   "execution_count": 4,
   "metadata": {},
   "outputs": [],
   "source": [
    "genomes = genome_alternatives(100)\n",
    "np.shape(genomes)\n",
    "selected_genomes = genomes"
   ]
  },
  {
   "cell_type": "markdown",
   "metadata": {},
   "source": [
    "##### Executing 20 generations"
   ]
  },
  {
   "cell_type": "code",
   "execution_count": 5,
   "metadata": {},
   "outputs": [
    {
     "name": "stdout",
     "output_type": "stream",
     "text": [
      "Wall time: 2min 34s\n"
     ]
    }
   ],
   "source": [
    "%%time\n",
    "for run_generations in range (5):\n",
    "    # Creating the Agent-Based models for the current generation and running it for 7 days.\n",
    "    for current_exp_id in range(100*generation_number + 0, 100*generation_number + 100):\n",
    "        i = current_exp_id\n",
    "        abm_models.append( SleepAnimals(i, genome=selected_genomes[i-100*generation_number], \n",
    "                                        width=40, height=40) )\n",
    "        for j in range(60*24*7):\n",
    "            abm_models[i].step()\n",
    "    \n",
    "    # Capturing the data from the end of the simulation\n",
    "    current_generation = []\n",
    "    for k in range(100*generation_number + 0, 100*generation_number + 100):\n",
    "        a = [ abm_models[k].model_id , abm_models[k].schedule.agents[0].fitness , \n",
    "             abm_models[k].schedule.agents[0].circadian_rythm ]\n",
    "        current_generation.append( a )\n",
    "    \n",
    "    generation_results = dataframe_generation(generation_number , current_generation)\n",
    "    results = results.append(generation_results)\n",
    "    current_generation.sort(key = lambda x : x[1], reverse=True)\n",
    "    generation_number += 1\n",
    "    generations.append( current_generation )\n",
    "    \n",
    "    # Generating the new population from the fittest individuals\n",
    "    selected_genomes = np.full( (100 , 24) , 'sleep')\n",
    "    for l in range(20):\n",
    "        for m in range(5):\n",
    "            for n in range(24):\n",
    "                a = current_generation[l][2][n]\n",
    "                a = mutation_gene( a , p )\n",
    "                selected_genomes[int(100/20)*l + m] [n] = a"
   ]
  },
  {
   "cell_type": "code",
   "execution_count": 6,
   "metadata": {},
   "outputs": [
    {
     "name": "stdout",
     "output_type": "stream",
     "text": [
      "Wall time: 1min 50s\n"
     ]
    }
   ],
   "source": [
    "%%time\n",
    "for run_generations in range (5):\n",
    "    # Creating the Agent-Based models for the current generation and running it for 7 days.\n",
    "    for current_exp_id in range(100*generation_number + 0, 100*generation_number + 100):\n",
    "        i = current_exp_id\n",
    "        abm_models.append( SleepAnimals(i, genome=selected_genomes[i-100*generation_number], \n",
    "                                        width=40, height=40) )\n",
    "        for j in range(60*24*7):\n",
    "            abm_models[i].step()\n",
    "    \n",
    "    # Capturing the data from the end of the simulation\n",
    "    current_generation = []\n",
    "    for k in range(100*generation_number + 0, 100*generation_number + 100):\n",
    "        a = [ abm_models[k].model_id , abm_models[k].schedule.agents[0].fitness , \n",
    "             abm_models[k].schedule.agents[0].circadian_rythm ]\n",
    "        current_generation.append( a )\n",
    "    \n",
    "    generation_results = dataframe_generation(generation_number , current_generation)\n",
    "    results = results.append(generation_results)\n",
    "    current_generation.sort(key = lambda x : x[1], reverse=True)\n",
    "    generation_number += 1\n",
    "    generations.append( current_generation )\n",
    "    \n",
    "    # Generating the new population from the fittest individuals\n",
    "    selected_genomes = np.full( (100 , 24) , 'sleep')\n",
    "    for l in range(20):\n",
    "        for m in range(5):\n",
    "            for n in range(24):\n",
    "                a = current_generation[l][2][n]\n",
    "                a = mutation_gene( a , p )\n",
    "                selected_genomes[int(100/20)*l + m] [n] = a"
   ]
  },
  {
   "cell_type": "code",
   "execution_count": 7,
   "metadata": {},
   "outputs": [
    {
     "name": "stdout",
     "output_type": "stream",
     "text": [
      "Wall time: 2min 54s\n"
     ]
    }
   ],
   "source": [
    "%%time\n",
    "for run_generations in range (5):\n",
    "    # Creating the Agent-Based models for the current generation and running it for 7 days.\n",
    "    for current_exp_id in range(100*generation_number + 0, 100*generation_number + 100):\n",
    "        i = current_exp_id\n",
    "        abm_models.append( SleepAnimals(i, genome=selected_genomes[i-100*generation_number], \n",
    "                                        width=40, height=40) )\n",
    "        for j in range(60*24*7):\n",
    "            abm_models[i].step()\n",
    "    \n",
    "    # Capturing the data from the end of the simulation\n",
    "    current_generation = []\n",
    "    for k in range(100*generation_number + 0, 100*generation_number + 100):\n",
    "        a = [ abm_models[k].model_id , abm_models[k].schedule.agents[0].fitness , \n",
    "             abm_models[k].schedule.agents[0].circadian_rythm ]\n",
    "        current_generation.append( a )\n",
    "    \n",
    "    generation_results = dataframe_generation(generation_number , current_generation)\n",
    "    results = results.append(generation_results)\n",
    "    current_generation.sort(key = lambda x : x[1], reverse=True)\n",
    "    generation_number += 1\n",
    "    generations.append( current_generation )\n",
    "    \n",
    "    # Generating the new population from the fittest individuals\n",
    "    selected_genomes = np.full( (100 , 24) , 'sleep')\n",
    "    for l in range(20):\n",
    "        for m in range(5):\n",
    "            for n in range(24):\n",
    "                a = current_generation[l][2][n]\n",
    "                a = mutation_gene( a , p )\n",
    "                selected_genomes[int(100/20)*l + m] [n] = a"
   ]
  },
  {
   "cell_type": "code",
   "execution_count": null,
   "metadata": {},
   "outputs": [],
   "source": []
  },
  {
   "cell_type": "code",
   "execution_count": null,
   "metadata": {},
   "outputs": [],
   "source": [
    "generation_number , current_exp_id"
   ]
  },
  {
   "cell_type": "markdown",
   "metadata": {},
   "source": [
    "### Some results"
   ]
  },
  {
   "cell_type": "markdown",
   "metadata": {},
   "source": [
    "#### 1st generation data"
   ]
  },
  {
   "cell_type": "markdown",
   "metadata": {},
   "source": [
    "This are the models with the highest fitness in the first generation:"
   ]
  },
  {
   "cell_type": "code",
   "execution_count": null,
   "metadata": {},
   "outputs": [],
   "source": [
    "gen1_mostfit = [ generations[0][0][0] , generations[0][1][0], generations[0][2][0], \n",
    "               generations[0][3][0] , generations[0][4][0]]\n",
    "gen1_mostfit"
   ]
  },
  {
   "cell_type": "markdown",
   "metadata": {},
   "source": [
    "This shows the genome of the 10 most fit individuals of the first generation, color coded (Green = Eat genome, Lila = Sleep genome, Light blue = flexible genome)"
   ]
  },
  {
   "cell_type": "code",
   "execution_count": null,
   "metadata": {},
   "outputs": [],
   "source": [
    "genome_display_1gen = displayRGB_generation(1, 10, generations)\n",
    "_ = plt.imshow(np.swapaxes(genome_display_1gen,0,1))"
   ]
  },
  {
   "cell_type": "markdown",
   "metadata": {},
   "source": [
    "Plotting the \"Fitness vs Timestep\" of the five most fit agents."
   ]
  },
  {
   "cell_type": "code",
   "execution_count": null,
   "metadata": {},
   "outputs": [],
   "source": [
    "results_1stgen_1st = abm_models[gen1_mostfit[0]].datacollector.get_agent_vars_dataframe()\n",
    "results_1stgen_2st = abm_models[gen1_mostfit[1]].datacollector.get_agent_vars_dataframe()\n",
    "results_1stgen_3rd = abm_models[gen1_mostfit[2]].datacollector.get_agent_vars_dataframe()\n",
    "results_1stgen_4th = abm_models[gen1_mostfit[3]].datacollector.get_agent_vars_dataframe()\n",
    "results_1stgen_5th = abm_models[gen1_mostfit[4]].datacollector.get_agent_vars_dataframe()\n",
    "_ = results_1stgen_1st.Fitness.plot()\n",
    "_ = results_1stgen_2st.Fitness.plot()\n",
    "_ = results_1stgen_3rd.Fitness.plot()\n",
    "_ = results_1stgen_4th.Fitness.plot()\n",
    "_ = results_1stgen_5th.Fitness.plot()"
   ]
  },
  {
   "cell_type": "markdown",
   "metadata": {},
   "source": [
    "Dataframe of the 1st generation showing: 20 most fit agents, fitness in the last step and genome."
   ]
  },
  {
   "cell_type": "code",
   "execution_count": null,
   "metadata": {},
   "outputs": [],
   "source": [
    "results.loc['1st'].nlargest(20,'fitness')"
   ]
  },
  {
   "cell_type": "markdown",
   "metadata": {},
   "source": [
    "#### 10th generation data"
   ]
  },
  {
   "cell_type": "markdown",
   "metadata": {},
   "source": [
    "This are the models with the highest fitness in the second generation:"
   ]
  },
  {
   "cell_type": "code",
   "execution_count": null,
   "metadata": {},
   "outputs": [],
   "source": [
    "gen10_mostfit = [ generations[9][0][0] , generations[9][1][0], generations[9][2][0], \n",
    "               generations[9][3][0] , generations[9][4][0]]\n",
    "gen10_mostfit"
   ]
  },
  {
   "cell_type": "markdown",
   "metadata": {},
   "source": [
    "This shows the genome of the 10 most fit individuals of the tenth generation, color coded (Green = Eat genome, Lila = Sleep genome, Light blue = flexible genome)"
   ]
  },
  {
   "cell_type": "code",
   "execution_count": null,
   "metadata": {},
   "outputs": [],
   "source": [
    "genome_display_10gen = displayRGB_generation(10, 10, generations)\n",
    "_ = plt.imshow(np.swapaxes(genome_display_10gen,0,1))"
   ]
  },
  {
   "cell_type": "markdown",
   "metadata": {},
   "source": [
    "Plotting the \"Fitness vs Timestep\" of the five most fit agents."
   ]
  },
  {
   "cell_type": "code",
   "execution_count": null,
   "metadata": {},
   "outputs": [],
   "source": [
    "results_10gen_1st = abm_models[gen10_mostfit[0]].datacollector.get_agent_vars_dataframe()\n",
    "results_10gen_2st = abm_models[gen10_mostfit[1]].datacollector.get_agent_vars_dataframe()\n",
    "results_10gen_3rd = abm_models[gen10_mostfit[2]].datacollector.get_agent_vars_dataframe()\n",
    "results_10gen_4th = abm_models[gen10_mostfit[3]].datacollector.get_agent_vars_dataframe()\n",
    "results_10gen_5th = abm_models[gen10_mostfit[4]].datacollector.get_agent_vars_dataframe()\n",
    "_ = results_10gen_1st.Fitness.plot()\n",
    "_ = results_10gen_2st.Fitness.plot()\n",
    "_ = results_10gen_3rd.Fitness.plot()\n",
    "_ = results_10gen_4th.Fitness.plot()\n",
    "_ = results_10gen_5th.Fitness.plot()"
   ]
  },
  {
   "cell_type": "markdown",
   "metadata": {},
   "source": [
    "Dataframe of the 10th generation showing: 20 most fit agents, fitness in the last step and genome."
   ]
  },
  {
   "cell_type": "code",
   "execution_count": null,
   "metadata": {},
   "outputs": [],
   "source": [
    "results.loc['10th'].nlargest(20,'fitness')"
   ]
  },
  {
   "cell_type": "code",
   "execution_count": null,
   "metadata": {},
   "outputs": [],
   "source": []
  }
 ],
 "metadata": {
  "kernelspec": {
   "display_name": "Python [conda env:JupyterMesa]",
   "language": "python",
   "name": "conda-env-JupyterMesa-py"
  },
  "language_info": {
   "codemirror_mode": {
    "name": "ipython",
    "version": 3
   },
   "file_extension": ".py",
   "mimetype": "text/x-python",
   "name": "python",
   "nbconvert_exporter": "python",
   "pygments_lexer": "ipython3",
   "version": "3.6.6"
  }
 },
 "nbformat": 4,
 "nbformat_minor": 2
}
