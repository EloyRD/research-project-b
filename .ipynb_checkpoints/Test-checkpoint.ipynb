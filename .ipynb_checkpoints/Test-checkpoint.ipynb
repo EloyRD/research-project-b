{
 "cells": [
  {
   "cell_type": "code",
   "execution_count": 2,
   "metadata": {},
   "outputs": [
    {
     "name": "stdout",
     "output_type": "stream",
     "text": [
      "Importing C:\\Users\\EloyR\\source\\repos\\research-project-b\\simulation_modules\\rpb_agents.py\n",
      "Importing C:\\Users\\EloyR\\source\\repos\\research-project-b\\simulation_modules\\rpb_simmodel.py\n",
      "Importing C:\\Users\\EloyR\\source\\repos\\research-project-b\\simulation_modules\\rpb_experiment.py\n"
     ]
    }
   ],
   "source": [
    "import math\n",
    "import random\n",
    "import pandas as pd\n",
    "import numpy as np\n",
    "import matplotlib\n",
    "import matplotlib.pyplot as plt\n",
    "\n",
    "from itertools import groupby\n",
    "\n",
    "from simulation_modules.rpb_agents import Animal, FoodPatch, SleepPatch\n",
    "from simulation_modules.rpb_simmodel import SleepAnimals\n",
    "from simulation_modules.rpb_experiment import *"
   ]
  },
  {
   "cell_type": "code",
   "execution_count": 3,
   "metadata": {},
   "outputs": [
    {
     "data": {
      "text/plain": [
       "(100, 24)"
      ]
     },
     "execution_count": 3,
     "metadata": {},
     "output_type": "execute_result"
    }
   ],
   "source": [
    "genomes = genome_alternatives(100)\n",
    "np.shape(genomes)"
   ]
  },
  {
   "cell_type": "code",
   "execution_count": 4,
   "metadata": {},
   "outputs": [
    {
     "data": {
      "text/plain": [
       "array(['flex', 'flex', 'eat', 'flex', 'flex', 'sleep', 'flex', 'sleep',\n",
       "       'flex', 'eat', 'eat', 'flex', 'sleep', 'flex', 'sleep', 'flex',\n",
       "       'eat', 'sleep', 'eat', 'flex', 'sleep', 'eat', 'flex', 'sleep'],\n",
       "      dtype='<U5')"
      ]
     },
     "execution_count": 4,
     "metadata": {},
     "output_type": "execute_result"
    }
   ],
   "source": [
    "genomes[0]"
   ]
  },
  {
   "cell_type": "code",
   "execution_count": 5,
   "metadata": {},
   "outputs": [
    {
     "data": {
      "text/plain": [
       "['flex',\n",
       " 'flex',\n",
       " 'eat',\n",
       " 'flex',\n",
       " 'flex',\n",
       " 'sleep',\n",
       " 'flex',\n",
       " 'sleep',\n",
       " 'flex',\n",
       " 'eat',\n",
       " 'eat',\n",
       " 'flex',\n",
       " 'sleep',\n",
       " 'flex',\n",
       " 'sleep',\n",
       " 'flex',\n",
       " 'eat',\n",
       " 'sleep',\n",
       " 'eat',\n",
       " 'flex',\n",
       " 'sleep',\n",
       " 'eat',\n",
       " 'flex',\n",
       " 'sleep']"
      ]
     },
     "execution_count": 5,
     "metadata": {},
     "output_type": "execute_result"
    }
   ],
   "source": [
    "list(genomes[0])"
   ]
  },
  {
   "cell_type": "code",
   "execution_count": 6,
   "metadata": {},
   "outputs": [
    {
     "data": {
      "text/plain": [
       "array(['flex', 'flex', 'eat', 'flex', 'flex', 'sleep', 'flex', 'sleep',\n",
       "       'flex', 'eat', 'eat', 'flex', 'sleep', 'flex', 'sleep', 'flex',\n",
       "       'eat', 'sleep', 'eat', 'flex', 'sleep', 'eat', 'flex', 'sleep'],\n",
       "      dtype='<U5')"
      ]
     },
     "execution_count": 6,
     "metadata": {},
     "output_type": "execute_result"
    }
   ],
   "source": [
    "np.array(genomes[0])"
   ]
  },
  {
   "cell_type": "code",
   "execution_count": 7,
   "metadata": {},
   "outputs": [
    {
     "data": {
      "text/plain": [
       "['flex',\n",
       " 'eat',\n",
       " 'flex',\n",
       " 'sleep',\n",
       " 'flex',\n",
       " 'sleep',\n",
       " 'flex',\n",
       " 'eat',\n",
       " 'flex',\n",
       " 'sleep',\n",
       " 'flex',\n",
       " 'sleep',\n",
       " 'flex',\n",
       " 'eat',\n",
       " 'sleep',\n",
       " 'eat',\n",
       " 'flex',\n",
       " 'sleep',\n",
       " 'eat',\n",
       " 'flex',\n",
       " 'sleep']"
      ]
     },
     "execution_count": 7,
     "metadata": {},
     "output_type": "execute_result"
    }
   ],
   "source": [
    "L= list(genomes[0])\n",
    "[x [0] for x in groupby(L)]"
   ]
  },
  {
   "cell_type": "code",
   "execution_count": 11,
   "metadata": {},
   "outputs": [
    {
     "data": {
      "text/plain": [
       "'flex'"
      ]
     },
     "execution_count": 11,
     "metadata": {},
     "output_type": "execute_result"
    }
   ],
   "source": [
    "genomes[0][1]"
   ]
  },
  {
   "cell_type": "markdown",
   "metadata": {},
   "source": []
  },
  {
   "cell_type": "code",
   "execution_count": null,
   "metadata": {},
   "outputs": [],
   "source": []
  }
 ],
 "metadata": {
  "kernelspec": {
   "display_name": "Python [conda env:JupyterMesa]",
   "language": "python",
   "name": "conda-env-JupyterMesa-py"
  },
  "language_info": {
   "codemirror_mode": {
    "name": "ipython",
    "version": 3
   },
   "file_extension": ".py",
   "mimetype": "text/x-python",
   "name": "python",
   "nbconvert_exporter": "python",
   "pygments_lexer": "ipython3",
   "version": "3.6.6"
  }
 },
 "nbformat": 4,
 "nbformat_minor": 2
}
