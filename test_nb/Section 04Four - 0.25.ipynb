{
 "cells": [
  {
   "cell_type": "markdown",
   "metadata": {},
   "source": [
    "#  RESEARCH PROJECT B\n",
    "Student: Mr Eloy Ruiz Donayre  \n",
    "Supervisor: Prof Dr Achim Kehrein  \n",
    "\n",
    "Reference Paper:  \n",
    "> To sleep or not to sleep: the ecology of sleep in artificial organisms  \n",
    "> Alberto Acerbi, Patrick McNamara and Charles L Nunn  \n",
    "> https://doi.org/10.1186/1472-6785-8-10 "
   ]
  },
  {
   "cell_type": "markdown",
   "metadata": {},
   "source": [
    "## Data Analysis (40 generations)"
   ]
  },
  {
   "cell_type": "markdown",
   "metadata": {},
   "source": [
    "#### Setting up modules"
   ]
  },
  {
   "cell_type": "code",
   "execution_count": 1,
   "metadata": {},
   "outputs": [],
   "source": [
    "%matplotlib inline\n",
    "import seaborn as sns\n",
    "sns.set()\n",
    "\n",
    "# from jupyterthemes import jtplot\n",
    "# jtplot.style()"
   ]
  },
  {
   "cell_type": "code",
   "execution_count": 2,
   "metadata": {},
   "outputs": [
    {
     "name": "stdout",
     "output_type": "stream",
     "text": [
      "Importing C:\\Users\\EloyR\\source\\repos\\research-project-b\\simulation_modules\\__init__.py\n",
      "Importing C:\\Users\\EloyR\\source\\repos\\research-project-b\\simulation_modules\\rpb_agents.py\n",
      "Importing C:\\Users\\EloyR\\source\\repos\\research-project-b\\simulation_modules\\rpb_simmodel.py\n",
      "Importing C:\\Users\\EloyR\\source\\repos\\research-project-b\\simulation_modules\\rpb_experiment.py\n"
     ]
    }
   ],
   "source": [
    "import math\n",
    "import random\n",
    "import pandas as pd\n",
    "import numpy as np\n",
    "import matplotlib\n",
    "import matplotlib.pyplot as plt\n",
    "\n",
    "from simulation_modules.rpb_agents import Animal, FoodPatch, SleepPatch\n",
    "from simulation_modules.rpb_simmodel import SleepAnimals_sinDataColl\n",
    "from simulation_modules.rpb_experiment import *"
   ]
  },
  {
   "cell_type": "code",
   "execution_count": 3,
   "metadata": {},
   "outputs": [],
   "source": [
    "current_exp_id = 0\n",
    "generation_number = 0\n",
    "abm_models = []\n",
    "generations = []\n",
    "results = pd.DataFrame()\n",
    "p = 0.05"
   ]
  },
  {
   "cell_type": "markdown",
   "metadata": {},
   "source": [
    "#### Creating genomes of initial population\n",
    "The array `genomes` represent the genomes of the first 100 individuals. Each gene in the genome has three possible values:  \n",
    "`'flex' , 'eat' , 'sleep'`"
   ]
  },
  {
   "cell_type": "code",
   "execution_count": 4,
   "metadata": {},
   "outputs": [],
   "source": [
    "genomes = genome_alternatives(100)\n",
    "np.shape(genomes)\n",
    "selected_genomes = genomes"
   ]
  },
  {
   "cell_type": "markdown",
   "metadata": {},
   "source": [
    "### Executing 40 generations"
   ]
  },
  {
   "cell_type": "code",
   "execution_count": 5,
   "metadata": {},
   "outputs": [
    {
     "name": "stdout",
     "output_type": "stream",
     "text": [
      "Wall time: 12min 7s\n"
     ]
    }
   ],
   "source": [
    "%%time\n",
    "for run_generations in range (10):\n",
    "    # Creating the Agent-Based models for the current generation and running it for 7 days.\n",
    "    for current_exp_id in range(100*generation_number + 0, 100*generation_number + 100):\n",
    "        i = current_exp_id\n",
    "        abm_models.append( SleepAnimals_sinDataColl(i, genome=selected_genomes[i-100*generation_number], \n",
    "                                        width=40, height=40, sleep_and_food_gainfactor=.25) )\n",
    "        for j in range(60*24*7):\n",
    "            abm_models[i].step()\n",
    "    \n",
    "    # Capturing the data from the end of the simulation\n",
    "    current_generation = []\n",
    "    for k in range(100*generation_number + 0, 100*generation_number + 100):\n",
    "        (x,y,z) = phases_in_genome( abm_models[k].schedule.agents[0].circadian_rythm )\n",
    "        \n",
    "        a = [ abm_models[k].model_id , abm_models[k].schedule.agents[0].fitness , \n",
    "             abm_models[k].schedule.agents[0].circadian_rythm, abm_models[k].schedule.agents[0].minutes_asleep,\n",
    "             x, y, z ]\n",
    "        current_generation.append( a )\n",
    "    \n",
    "#    generation_results = dataframe_generation(generation_number , current_generation)\n",
    "#    results = results.append(generation_results)\n",
    "    current_generation.sort(key = lambda x : x[1], reverse=True)\n",
    "    generation_number += 1\n",
    "    generations.append( current_generation )\n",
    "    \n",
    "    # Generating the new population from the fittest individuals\n",
    "    selected_genomes = np.full( (100 , 24) , 'sleep')\n",
    "    for l in range(20):\n",
    "        for m in range(5):\n",
    "            for n in range(24):\n",
    "                a = current_generation[l][2][n]\n",
    "                a = mutation_gene( a , p )\n",
    "                selected_genomes[int(100/20)*l + m] [n] = a"
   ]
  },
  {
   "cell_type": "markdown",
   "metadata": {},
   "source": [
    "## Data analysis"
   ]
  },
  {
   "cell_type": "markdown",
   "metadata": {},
   "source": [
    "### Evolution of average fitness per generation"
   ]
  },
  {
   "cell_type": "code",
   "execution_count": 6,
   "metadata": {},
   "outputs": [
    {
     "data": {
      "image/png": "[encoded data removed]",
      "text/plain": [
       "<Figure size 432x288 with 1 Axes>"
      ]
     },
     "metadata": {},
     "output_type": "display_data"
    }
   ],
   "source": [
    "x = []\n",
    "average_fitness = []\n",
    "for j in range( len(generations) ):\n",
    "    data = [ generations[j][i][1] for i in range(100) ]\n",
    "    average_fitness.append( np.average(data) )\n",
    "    x.append( j+1 )\n",
    "\n",
    "_= plt.plot(x, average_fitness, \"ro\")\n",
    "_= plt.xticks( np.arange(1,len(generations)+1,1) )\n",
    "_= plt.xlabel('generation')\n",
    "_= plt.ylabel('average fitness of population')"
   ]
  },
  {
   "cell_type": "markdown",
   "metadata": {},
   "source": [
    "### Evolution of minutes asleep per generation"
   ]
  },
  {
   "cell_type": "code",
   "execution_count": 7,
   "metadata": {},
   "outputs": [
    {
     "data": {
      "image/png": "[encoded data removed]",
      "text/plain": [
       "<Figure size 432x288 with 1 Axes>"
      ]
     },
     "metadata": {},
     "output_type": "display_data"
    }
   ],
   "source": [
    "x = []\n",
    "average_minutes_asleep = []\n",
    "for j in range( len(generations) ):\n",
    "    data = [ generations[j][i][3] for i in range(100) ]\n",
    "    average_minutes_asleep.append( np.average(data) )\n",
    "    x.append( j+1 )\n",
    "\n",
    "_= plt.plot(x, average_minutes_asleep, \"go\")\n",
    "_= plt.xticks( np.arange(1,len(generations)+1,1) )\n",
    "_= plt.xlabel('generation')\n",
    "_= plt.ylabel('average # sleep minutes')"
   ]
  },
  {
   "cell_type": "markdown",
   "metadata": {},
   "source": [
    "### Evolution of the fitness of the genome sequences E-F-E, S-F-S, and S-F-E with E-F-S combined."
   ]
  },
  {
   "cell_type": "code",
   "execution_count": 8,
   "metadata": {},
   "outputs": [],
   "source": [
    "x = []\n",
    "average_fitness_efe = []\n",
    "average_fitness_sfs = []\n",
    "average_fitness_sfe_inv = []\n",
    "\n",
    "for j in range( len(generations) ):\n",
    "    data_fitness   = [ generations[j][i][1] for i in range(100) ]\n",
    "    data_efe       = [ generations[j][i][4] for i in range(100) ]\n",
    "    data_sfs       = [ generations[j][i][5] for i in range(100) ]\n",
    "    data_sfe_inv   = [ generations[j][i][6] for i in range(100) ]\n",
    "    \n",
    "    average_fitness_efe.append(     np.average(data_fitness, weights= data_efe) )\n",
    "    average_fitness_sfs.append(     np.average(data_fitness, weights= data_sfs) )\n",
    "    average_fitness_sfe_inv.append( np.average(data_fitness, weights= data_sfe_inv) )\n",
    "    x.append( j+1 )"
   ]
  },
  {
   "cell_type": "code",
   "execution_count": 9,
   "metadata": {
    "scrolled": true
   },
   "outputs": [
    {
     "data": {
      "image/png": "[encoded data removed]",
      "text/plain": [
       "<Figure size 432x288 with 1 Axes>"
      ]
     },
     "metadata": {},
     "output_type": "display_data"
    }
   ],
   "source": [
    "_= plt.plot(x, average_fitness_efe, \"o\", label='Sequence E-F-E')\n",
    "_= plt.plot(x, average_fitness_sfs, \"s\", label='Sequence S-F-S')\n",
    "_= plt.plot(x, average_fitness_sfe_inv, \"^\", label='Sequence S-F-E and inverse')\n",
    "_= plt.xticks( np.arange(1,len(generations)+1,1) )\n",
    "_= plt.xlabel('generation')\n",
    "_= plt.ylabel('fitness')\n",
    "_= plt.legend()"
   ]
  },
  {
   "cell_type": "markdown",
   "metadata": {},
   "source": [
    "### Evolution of the relative proportion of the genome sequences E-F-E, S-F-S, and S-F-E with E-F-S combined."
   ]
  },
  {
   "cell_type": "code",
   "execution_count": 10,
   "metadata": {},
   "outputs": [],
   "source": [
    "x = []\n",
    "appearance_efe = []\n",
    "appearance_sfs = []\n",
    "appearance_sfe_inv = []\n",
    "\n",
    "for j in range( len(generations) ):\n",
    "    appearance_efe_d       = np.sum([ generations[j][i][4] for i in range(100) ])\n",
    "    appearance_sfs_d       = np.sum([ generations[j][i][5] for i in range(100) ])\n",
    "    appearance_sfe_inv_d   = np.sum([ generations[j][i][6] for i in range(100) ])\n",
    "    appearance_total_d     = appearance_efe_d + appearance_sfs_d + appearance_sfe_inv_d\n",
    "    \n",
    "    appearance_efe.append(     appearance_efe_d / appearance_total_d )\n",
    "    appearance_sfs.append(     appearance_sfs_d / appearance_total_d ) \n",
    "    appearance_sfe_inv.append( appearance_sfe_inv_d / appearance_total_d )\n",
    "    x.append( j+1 )"
   ]
  },
  {
   "cell_type": "code",
   "execution_count": 11,
   "metadata": {
    "scrolled": true
   },
   "outputs": [
    {
     "data": {
      "image/png": "[encoded data removed]",
      "text/plain": [
       "<Figure size 432x288 with 1 Axes>"
      ]
     },
     "metadata": {},
     "output_type": "display_data"
    }
   ],
   "source": [
    "_= plt.plot(x, appearance_efe, \"o\", label='Sequence E-F-E')\n",
    "_= plt.plot(x, appearance_sfs, \"s\", label='Sequence S-F-S')\n",
    "_= plt.plot(x, appearance_sfe_inv, \"^\", label='Sequence S-F-E and inverse')\n",
    "_= plt.xticks( np.arange(1,len(generations)+1,1) )\n",
    "_= plt.xlabel('generation')\n",
    "_= plt.ylabel('fitness')\n",
    "_= plt.legend()"
   ]
  }
 ],
 "metadata": {
  "kernelspec": {
   "display_name": "Python [conda env:JupyterMesa]",
   "language": "python",
   "name": "conda-env-JupyterMesa-py"
  },
  "language_info": {
   "codemirror_mode": {
    "name": "ipython",
    "version": 3
   },
   "file_extension": ".py",
   "mimetype": "text/x-python",
   "name": "python",
   "nbconvert_exporter": "python",
   "pygments_lexer": "ipython3",
   "version": "3.6.6"
  }
 },
 "nbformat": 4,
 "nbformat_minor": 2
}
